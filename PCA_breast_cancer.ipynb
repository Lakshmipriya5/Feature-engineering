{
 "cells": [
  {
   "cell_type": "code",
   "execution_count": 27,
   "metadata": {},
   "outputs": [
    {
     "name": "stdout",
     "output_type": "stream",
     "text": [
      "\n",
      "******************How to extract the features using PCA in pthon******************\n",
      "shape is (569, 30)\n",
      "\n",
      "*********************below are the data after standardization*********************\n",
      "\n",
      "[[ 1.09706398 -2.07333501  1.26993369 ...  2.29607613  2.75062224\n",
      "   1.93701461]\n",
      " [ 1.82982061 -0.35363241  1.68595471 ...  1.0870843  -0.24388967\n",
      "   0.28118999]\n",
      " [ 1.57988811  0.45618695  1.56650313 ...  1.95500035  1.152255\n",
      "   0.20139121]\n",
      " ...\n",
      " [ 0.70228425  2.0455738   0.67267578 ...  0.41406869 -1.10454895\n",
      "  -0.31840916]\n",
      " [ 1.83834103  2.33645719  1.98252415 ...  2.28998549  1.91908301\n",
      "   2.21963528]\n",
      " [-1.80840125  1.22179204 -1.81438851 ... -1.74506282 -0.04813821\n",
      "  -0.75120669]]\n",
      "\n",
      "features after standadization (569, 30)\n",
      "\n",
      "features after doing pca (569, 6)\n",
      "\n",
      "***************************below are the data after PCA***************************\n",
      "[[ 9.19283683  1.94858307 -1.12316616  3.6337309  -1.19511012  1.41142445]\n",
      " [ 2.3878018  -3.76817174 -0.52929269  1.11826386  0.62177498  0.02865635]\n",
      " [ 5.73389628 -1.0751738  -0.55174759  0.91208267 -0.1770859   0.54145215]\n",
      " ...\n",
      " [ 1.25617928 -1.90229671  0.56273053 -2.08922702  1.80999133 -0.53444719]\n",
      " [10.37479406  1.67201011 -1.87702933 -2.35603113 -0.03374193  0.56793647]\n",
      " [-5.4752433  -0.67063679  1.49044308 -2.29915714 -0.18470331  1.61783736]]\n"
     ]
    }
   ],
   "source": [
    "def snippet_123():\n",
    "    print()\n",
    "    print(format('How to extract the features using PCA in pthon','*^82'))\n",
    "    \n",
    "    from sklearn import datasets\n",
    "    from sklearn.decomposition import PCA\n",
    "    from sklearn.preprocessing import StandardScaler\n",
    "    \n",
    "    dataset=datasets.load_breast_cancer()\n",
    "    X=dataset.data\n",
    "    print(\"shape is\",X.shape)\n",
    "    print()\n",
    "    print(format('below are the data after standardization','*^82'))\n",
    "    print()\n",
    "    sc=StandardScaler()\n",
    "    X_std=sc.fit_transform(X)\n",
    "    print(X_std)\n",
    "    print()\n",
    "    print('features after standadization',X_std.shape)\n",
    "    print()\n",
    "    pca=PCA(n_components=0.85)\n",
    "    X_pca=pca.fit_transform(X_std)\n",
    "    print('features after doing pca',X_pca.shape)\n",
    "    print()\n",
    "    print(format('below are the data after PCA','*^82'))\n",
    "    print(X_pca)\n",
    "    \n",
    "snippet_123()   "
   ]
  }
 ],
 "metadata": {
  "kernelspec": {
   "display_name": "Python 3",
   "language": "python",
   "name": "python3"
  },
  "language_info": {
   "codemirror_mode": {
    "name": "ipython",
    "version": 3
   },
   "file_extension": ".py",
   "mimetype": "text/x-python",
   "name": "python",
   "nbconvert_exporter": "python",
   "pygments_lexer": "ipython3",
   "version": "3.7.4"
  }
 },
 "nbformat": 4,
 "nbformat_minor": 2
}
